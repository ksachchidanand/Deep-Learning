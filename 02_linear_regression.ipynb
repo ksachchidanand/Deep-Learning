{
  "nbformat": 4,
  "nbformat_minor": 0,
  "metadata": {
    "colab": {
      "name": "02-linear-regression.ipynb",
      "provenance": []
    },
    "kernelspec": {
      "name": "python3",
      "display_name": "Python 3"
    }
  },
  "cells": [
    {
      "cell_type": "markdown",
      "metadata": {
        "id": "O8Ja0_NIiXBw",
        "colab_type": "text"
      },
      "source": [
        "# ***Linear Regression with PyTorch***"
      ]
    },
    {
      "cell_type": "markdown",
      "metadata": {
        "id": "7BqK63rMknv8",
        "colab_type": "text"
      },
      "source": [
        "*Linear regression*. We'll create a model that predicts crop yields for apples and oranges (*target variables*) by looking at the average temperature, rainfall and humidity (*input variables or features*) in a region. Here's the training data:\n",
        "\n",
        "![linear-regression-training-data](https://i.imgur.com/6Ujttb4.png)\n",
        "\n",
        "In a linear regression model, each target variable is estimated to be a weighted sum of the input variables, offset by some constant, known as a bias :\n",
        "\n",
        "```\n",
        "yield_apple  = w11 * temp + w12 * rainfall + w13 * humidity + b1\n",
        "yield_orange = w21 * temp + w22 * rainfall + w23 * humidity + b2\n",
        "```\n",
        "\n",
        "Visually, it means that the yield of apples is a linear or planar function of temperature, rainfall and humidity:\n",
        "\n",
        "![linear-regression-graph](https://i.imgur.com/4DJ9f8X.png)\n",
        "\n",
        "The *learning* part of linear regression is to figure out a set of weights `w11, w12,... w23, b1 & b2` by looking at the training data, to make accurate predictions for new data (i.e. to predict the yields for apples and oranges in a new region using the average temperature, rainfall and humidity). This is done by adjusting the weights slightly many times to make better predictions, using an optimization technique called *gradient descent*."
      ]
    },
    {
      "cell_type": "code",
      "metadata": {
        "id": "Fnt_o49LGFdw",
        "colab_type": "code",
        "colab": {}
      },
      "source": [
        "import numpy as np\n",
        "import torch"
      ],
      "execution_count": null,
      "outputs": []
    },
    {
      "cell_type": "markdown",
      "metadata": {
        "id": "KQWYmxs1y-Cb",
        "colab_type": "text"
      },
      "source": [
        "# **Training Data**"
      ]
    },
    {
      "cell_type": "code",
      "metadata": {
        "id": "HLtKu6u1JAur",
        "colab_type": "code",
        "colab": {}
      },
      "source": [
        "# Input (temp, rainfall, humidity)\n",
        "inputs = np.array([[73, 67, 43],\n",
        "                   [91, 88, 64],\n",
        "                   [87, 134, 58],\n",
        "                   [102, 43, 37],\n",
        "                   [69, 96, 70]], dtype='float32')"
      ],
      "execution_count": null,
      "outputs": []
    },
    {
      "cell_type": "code",
      "metadata": {
        "id": "Ax8h2_llJw0F",
        "colab_type": "code",
        "colab": {}
      },
      "source": [
        "# Target (apple, orange)\n",
        "targets = np.array([[56, 70],\n",
        "                    [81, 101],\n",
        "                    [119, 133],\n",
        "                    [22, 37],\n",
        "                    [103, 119]], dtype='float32')"
      ],
      "execution_count": null,
      "outputs": []
    },
    {
      "cell_type": "code",
      "metadata": {
        "id": "sg9DMu9OKUbj",
        "colab_type": "code",
        "colab": {
          "base_uri": "https://localhost:8080/",
          "height": 202
        },
        "outputId": "714a302d-1f51-428d-c2db-bc7882027f93"
      },
      "source": [
        "# Converting inputs and targets to tensors\n",
        "inputs = torch.from_numpy(inputs)\n",
        "targets = torch.from_numpy(targets)\n",
        "print(inputs)\n",
        "print()\n",
        "print(targets)"
      ],
      "execution_count": null,
      "outputs": [
        {
          "output_type": "stream",
          "text": [
            "tensor([[ 73.,  67.,  43.],\n",
            "        [ 91.,  88.,  64.],\n",
            "        [ 87., 134.,  58.],\n",
            "        [102.,  43.,  37.],\n",
            "        [ 69.,  96.,  70.]])\n",
            "\n",
            "tensor([[ 56.,  70.],\n",
            "        [ 81., 101.],\n",
            "        [119., 133.],\n",
            "        [ 22.,  37.],\n",
            "        [103., 119.]])\n"
          ],
          "name": "stdout"
        }
      ]
    },
    {
      "cell_type": "markdown",
      "metadata": {
        "id": "VCrYKaegLSqX",
        "colab_type": "text"
      },
      "source": [
        "# ***Linear regression model from scratch***"
      ]
    },
    {
      "cell_type": "code",
      "metadata": {
        "id": "oo7R3Dz2KzkY",
        "colab_type": "code",
        "colab": {
          "base_uri": "https://localhost:8080/",
          "height": 67
        },
        "outputId": "32123438-ff0c-4860-926d-e90fb3a403ce"
      },
      "source": [
        "# weights and biases\n",
        "w = torch.randn(2, 3, requires_grad=True)\n",
        "b = torch.randn(2, requires_grad=True)\n",
        "print(w)\n",
        "print(b)"
      ],
      "execution_count": null,
      "outputs": [
        {
          "output_type": "stream",
          "text": [
            "tensor([[-0.4289,  0.5188,  0.5510],\n",
            "        [ 0.0255, -0.1042,  0.6054]], requires_grad=True)\n",
            "tensor([-0.8120, -1.1038], requires_grad=True)\n"
          ],
          "name": "stdout"
        }
      ]
    },
    {
      "cell_type": "markdown",
      "metadata": {
        "id": "RCVlleoh1JQg",
        "colab_type": "text"
      },
      "source": [
        "`torch.randn` creates a tensor with the given shape, with elements picked randomly from a [normal distribution](https://en.wikipedia.org/wiki/Normal_distribution) with mean 0 and standard deviation 1.\n",
        "\n",
        "Our *model* is simply a function that performs a matrix multiplication of the `inputs` and the weights `w` (transposed) and adds the bias `b` (replicated for each observation).\n",
        "\n",
        "![matrix-mult](https://i.imgur.com/WGXLFvA.png)\n",
        "\n",
        "We can define the model as follows:"
      ]
    },
    {
      "cell_type": "code",
      "metadata": {
        "id": "3Jl-OUBCL1um",
        "colab_type": "code",
        "colab": {}
      },
      "source": [
        "def model(x):\n",
        "    return x @ w.t() + b"
      ],
      "execution_count": null,
      "outputs": []
    },
    {
      "cell_type": "code",
      "metadata": {
        "id": "MpfR8Z04MV-0",
        "colab_type": "code",
        "colab": {
          "base_uri": "https://localhost:8080/",
          "height": 101
        },
        "outputId": "c594a629-b609-4d00-cb8c-68f2679c82d0"
      },
      "source": [
        "# Generate predictions\n",
        "preds = model(inputs)\n",
        "print(preds)"
      ],
      "execution_count": null,
      "outputs": [
        {
          "output_type": "stream",
          "text": [
            "tensor([[26.3241, 19.8111],\n",
            "        [41.0676, 30.7957],\n",
            "        [63.3408, 22.2684],\n",
            "        [-1.8717, 19.4204],\n",
            "        [57.9604, 33.0323]], grad_fn=<AddBackward0>)\n"
          ],
          "name": "stdout"
        }
      ]
    },
    {
      "cell_type": "code",
      "metadata": {
        "id": "kmGXAndQMf-f",
        "colab_type": "code",
        "colab": {
          "base_uri": "https://localhost:8080/",
          "height": 101
        },
        "outputId": "5b7be845-8967-42b5-aee8-89aec2bf6acf"
      },
      "source": [
        "#Compare with targets\n",
        "print(targets)"
      ],
      "execution_count": null,
      "outputs": [
        {
          "output_type": "stream",
          "text": [
            "tensor([[ 56.,  70.],\n",
            "        [ 81., 101.],\n",
            "        [119., 133.],\n",
            "        [ 22.,  37.],\n",
            "        [103., 119.]])\n"
          ],
          "name": "stdout"
        }
      ]
    },
    {
      "cell_type": "code",
      "metadata": {
        "id": "V1Zi8GExU2Ga",
        "colab_type": "code",
        "colab": {
          "base_uri": "https://localhost:8080/",
          "height": 34
        },
        "outputId": "ad029124-28ac-43ca-d4b4-5df7fae835dd"
      },
      "source": [
        "diff = preds - targets\n",
        "diff * diff\n",
        "\n",
        "torch.sum(diff * diff) / diff.numel()"
      ],
      "execution_count": null,
      "outputs": [
        {
          "output_type": "execute_result",
          "data": {
            "text/plain": [
              "tensor(3558.0183, grad_fn=<DivBackward0>)"
            ]
          },
          "metadata": {
            "tags": []
          },
          "execution_count": 9
        }
      ]
    },
    {
      "cell_type": "markdown",
      "metadata": {
        "id": "sWSwCEwB3YN2",
        "colab_type": "text"
      },
      "source": [
        "# ***Loss Function***"
      ]
    },
    {
      "cell_type": "code",
      "metadata": {
        "id": "BLaO7HbYMkrv",
        "colab_type": "code",
        "colab": {}
      },
      "source": [
        "# MSE\n",
        "def mse(t1, t2):\n",
        "    diff = t1 - t2\n",
        "    return torch.sum(diff * diff) / diff.numel()"
      ],
      "execution_count": null,
      "outputs": []
    },
    {
      "cell_type": "code",
      "metadata": {
        "id": "710ZbsEANfn0",
        "colab_type": "code",
        "colab": {
          "base_uri": "https://localhost:8080/",
          "height": 34
        },
        "outputId": "95011368-e7fc-4d46-be51-8b8b00d096db"
      },
      "source": [
        "# Compute loss\n",
        "loss = mse(preds, targets)\n",
        "loss"
      ],
      "execution_count": null,
      "outputs": [
        {
          "output_type": "execute_result",
          "data": {
            "text/plain": [
              "tensor(3558.0183, grad_fn=<DivBackward0>)"
            ]
          },
          "metadata": {
            "tags": []
          },
          "execution_count": 11
        }
      ]
    },
    {
      "cell_type": "markdown",
      "metadata": {
        "id": "T4JZC8AD6aoK",
        "colab_type": "text"
      },
      "source": [
        "# ***Compute Gradients***"
      ]
    },
    {
      "cell_type": "code",
      "metadata": {
        "id": "rNM7awyfNoJh",
        "colab_type": "code",
        "colab": {}
      },
      "source": [
        "# Compute Gradients\n",
        "loss.backward()"
      ],
      "execution_count": null,
      "outputs": []
    },
    {
      "cell_type": "code",
      "metadata": {
        "id": "BAOG1JF_OJXp",
        "colab_type": "code",
        "colab": {
          "base_uri": "https://localhost:8080/",
          "height": 84
        },
        "outputId": "9721c32b-dd18-472e-d4de-08aacb4f915c"
      },
      "source": [
        "# Gradient for weights\n",
        "print(w)\n",
        "print(w.grad)"
      ],
      "execution_count": null,
      "outputs": [
        {
          "output_type": "stream",
          "text": [
            "tensor([[-0.4289,  0.5188,  0.5510],\n",
            "        [ 0.0255, -0.1042,  0.6054]], requires_grad=True)\n",
            "tensor([[-3237.0376, -3662.1914, -2219.1995],\n",
            "        [-5482.1846, -6677.4990, -3948.3633]])\n"
          ],
          "name": "stdout"
        }
      ]
    },
    {
      "cell_type": "markdown",
      "metadata": {
        "id": "eQKZRyqz89F5",
        "colab_type": "text"
      },
      "source": [
        "![postive-gradient](https://i.imgur.com/hFYoVgU.png)\n",
        "\n",
        "![negative=gradient](https://i.imgur.com/w3Wii7C.png)"
      ]
    },
    {
      "cell_type": "code",
      "metadata": {
        "id": "0CopOYLBOUm4",
        "colab_type": "code",
        "colab": {
          "base_uri": "https://localhost:8080/",
          "height": 67
        },
        "outputId": "89af9865-9a08-4469-bb25-0c35fc3205c4"
      },
      "source": [
        "w.grad.zero_()\n",
        "b.grad.zero_()\n",
        "print(w.grad)\n",
        "print(b.grad)"
      ],
      "execution_count": null,
      "outputs": [
        {
          "output_type": "stream",
          "text": [
            "tensor([[0., 0., 0.],\n",
            "        [0., 0., 0.]])\n",
            "tensor([0., 0.])\n"
          ],
          "name": "stdout"
        }
      ]
    },
    {
      "cell_type": "markdown",
      "metadata": {
        "id": "j4TAL131-iQr",
        "colab_type": "text"
      },
      "source": [
        "# ***Adjust weights and biases using gradient descent***\n",
        "\n",
        "We'll reduce the loss and improve our model using the gradient descent optimization algorithm, which has the following steps:\n",
        "\n",
        "1. Generate predictions\n",
        "\n",
        "2. Calculate the loss\n",
        "\n",
        "3. Compute gradients w.r.t the weights and biases\n",
        "\n",
        "4. Adjust the weights by subtracting a small quantity proportional to the gradient\n",
        "\n",
        "5. Reset the gradients to zero\n",
        "\n",
        "Let's implement the above step by step."
      ]
    },
    {
      "cell_type": "code",
      "metadata": {
        "id": "S9pjIyBLO2mj",
        "colab_type": "code",
        "colab": {
          "base_uri": "https://localhost:8080/",
          "height": 101
        },
        "outputId": "26a40d04-31b8-4b39-dd8f-3c65b489a3d9"
      },
      "source": [
        "# Generate perdictions\n",
        "preds = model(inputs)\n",
        "print(preds)"
      ],
      "execution_count": null,
      "outputs": [
        {
          "output_type": "stream",
          "text": [
            "tensor([[26.3241, 19.8111],\n",
            "        [41.0676, 30.7957],\n",
            "        [63.3408, 22.2684],\n",
            "        [-1.8717, 19.4204],\n",
            "        [57.9604, 33.0323]], grad_fn=<AddBackward0>)\n"
          ],
          "name": "stdout"
        }
      ]
    },
    {
      "cell_type": "code",
      "metadata": {
        "id": "QmCpP7fKPNbh",
        "colab_type": "code",
        "colab": {
          "base_uri": "https://localhost:8080/",
          "height": 34
        },
        "outputId": "15870f7d-3957-46d4-e020-2d47593a2770"
      },
      "source": [
        "# Calculate the loss\n",
        "loss = mse(preds, targets)\n",
        "print(loss)"
      ],
      "execution_count": null,
      "outputs": [
        {
          "output_type": "stream",
          "text": [
            "tensor(3558.0183, grad_fn=<DivBackward0>)\n"
          ],
          "name": "stdout"
        }
      ]
    },
    {
      "cell_type": "code",
      "metadata": {
        "id": "OE5wdDkcPW2s",
        "colab_type": "code",
        "colab": {
          "base_uri": "https://localhost:8080/",
          "height": 67
        },
        "outputId": "b53cd90f-2874-483f-8c65-ff91555dd995"
      },
      "source": [
        "# Compute gradients\n",
        "loss.backward()\n",
        "print(w.grad)\n",
        "print(b.grad)"
      ],
      "execution_count": null,
      "outputs": [
        {
          "output_type": "stream",
          "text": [
            "tensor([[-3237.0376, -3662.1914, -2219.1995],\n",
            "        [-5482.1846, -6677.4990, -3948.3633]])\n",
            "tensor([-38.8358, -66.9344])\n"
          ],
          "name": "stdout"
        }
      ]
    },
    {
      "cell_type": "code",
      "metadata": {
        "id": "_lHJEnunPlKw",
        "colab_type": "code",
        "colab": {}
      },
      "source": [
        "# Adjust weight & reset gradients\n",
        "with torch.no_grad():\n",
        "    w -= w.grad * 1e-5\n",
        "    b -= b.grad * 1e-5\n",
        "    w.grad.zero_()\n",
        "    b.grad.zero_()"
      ],
      "execution_count": null,
      "outputs": []
    },
    {
      "cell_type": "code",
      "metadata": {
        "id": "cmDC7aR2QS4H",
        "colab_type": "code",
        "colab": {
          "base_uri": "https://localhost:8080/",
          "height": 67
        },
        "outputId": "1d624974-59ed-4fc3-f4a7-7d69dfce31b4"
      },
      "source": [
        "print(w)\n",
        "print(b)"
      ],
      "execution_count": null,
      "outputs": [
        {
          "output_type": "stream",
          "text": [
            "tensor([[-0.3966,  0.5554,  0.5732],\n",
            "        [ 0.0804, -0.0374,  0.6449]], requires_grad=True)\n",
            "tensor([-0.8116, -1.1031], requires_grad=True)\n"
          ],
          "name": "stdout"
        }
      ]
    },
    {
      "cell_type": "code",
      "metadata": {
        "id": "bA_-4v90QeW-",
        "colab_type": "code",
        "colab": {
          "base_uri": "https://localhost:8080/",
          "height": 34
        },
        "outputId": "f5de5de1-72e7-482d-a150-cbabac4e256e"
      },
      "source": [
        "preds = model(inputs)\n",
        "loss = mse(preds, targets)\n",
        "print(loss)"
      ],
      "execution_count": null,
      "outputs": [
        {
          "output_type": "stream",
          "text": [
            "tensor(2473.8237, grad_fn=<DivBackward0>)\n"
          ],
          "name": "stdout"
        }
      ]
    },
    {
      "cell_type": "markdown",
      "metadata": {
        "id": "gEAFJBePAd5u",
        "colab_type": "text"
      },
      "source": [
        "# ***Train for multiple epochs***"
      ]
    },
    {
      "cell_type": "code",
      "metadata": {
        "id": "gB-chj5RQu7C",
        "colab_type": "code",
        "colab": {}
      },
      "source": [
        "for i in range(1000):\n",
        "    preds = model(inputs)\n",
        "    loss = mse(preds, targets)\n",
        "    loss.backward()\n",
        "    with torch.no_grad():\n",
        "        w -= w.grad * 1e-5\n",
        "        b -= b.grad * 1e-5\n",
        "        w.grad.zero_()\n",
        "        b.grad.zero_()"
      ],
      "execution_count": null,
      "outputs": []
    },
    {
      "cell_type": "code",
      "metadata": {
        "id": "MBNVwrKnRgxI",
        "colab_type": "code",
        "colab": {
          "base_uri": "https://localhost:8080/",
          "height": 34
        },
        "outputId": "567f3026-d1d2-46e4-9d92-20755df93cc9"
      },
      "source": [
        "preds = model(inputs)\n",
        "loss = mse(preds, targets)\n",
        "print(loss)"
      ],
      "execution_count": null,
      "outputs": [
        {
          "output_type": "stream",
          "text": [
            "tensor(0.4990, grad_fn=<DivBackward0>)\n"
          ],
          "name": "stdout"
        }
      ]
    },
    {
      "cell_type": "code",
      "metadata": {
        "id": "Gqx1Ffu3SIYw",
        "colab_type": "code",
        "colab": {
          "base_uri": "https://localhost:8080/",
          "height": 101
        },
        "outputId": "1c669f56-643a-4f6e-f20e-244dea8157e4"
      },
      "source": [
        "preds"
      ],
      "execution_count": null,
      "outputs": [
        {
          "output_type": "execute_result",
          "data": {
            "text/plain": [
              "tensor([[ 57.0330,  70.1457],\n",
              "        [ 82.2854, 100.7107],\n",
              "        [118.7243, 133.1253],\n",
              "        [ 21.1196,  37.1553],\n",
              "        [101.8747, 118.9088]], grad_fn=<AddBackward0>)"
            ]
          },
          "metadata": {
            "tags": []
          },
          "execution_count": 23
        }
      ]
    },
    {
      "cell_type": "code",
      "metadata": {
        "id": "yv8MC7PrSZpa",
        "colab_type": "code",
        "colab": {
          "base_uri": "https://localhost:8080/",
          "height": 101
        },
        "outputId": "37d87842-f619-47e8-aa0a-127b957646cd"
      },
      "source": [
        "targets"
      ],
      "execution_count": null,
      "outputs": [
        {
          "output_type": "execute_result",
          "data": {
            "text/plain": [
              "tensor([[ 56.,  70.],\n",
              "        [ 81., 101.],\n",
              "        [119., 133.],\n",
              "        [ 22.,  37.],\n",
              "        [103., 119.]])"
            ]
          },
          "metadata": {
            "tags": []
          },
          "execution_count": 24
        }
      ]
    },
    {
      "cell_type": "markdown",
      "metadata": {
        "id": "CvGT5v8UnN4P",
        "colab_type": "text"
      },
      "source": [
        "# ***Linear Regression using PyTorch***"
      ]
    },
    {
      "cell_type": "code",
      "metadata": {
        "id": "OCiEKZU8XAFR",
        "colab_type": "code",
        "colab": {}
      },
      "source": [
        "import torch\n",
        "import torch.nn as nn\n",
        "import numpy as np"
      ],
      "execution_count": null,
      "outputs": []
    },
    {
      "cell_type": "code",
      "metadata": {
        "id": "_kN5OuLenoKY",
        "colab_type": "code",
        "colab": {}
      },
      "source": [
        "# Input (temp, rainfall, humidity)\n",
        "inputs = np.array([[73, 67, 73], [91, 88, 64], [87, 134, 58],\n",
        "                   [102, 43, 37], [69, 96, 70], [73, 67, 43],\n",
        "                   [91, 88, 64], [87, 134, 58], [102, 43, 37],\n",
        "                   [69, 96, 70], [73, 67, 73], [91, 88, 64], \n",
        "                   [87, 134, 58], [102, 43, 37], [69, 96, 70]],\n",
        "                  dtype = 'float32')"
      ],
      "execution_count": null,
      "outputs": []
    },
    {
      "cell_type": "code",
      "metadata": {
        "id": "hgZvfuE9oxZy",
        "colab_type": "code",
        "colab": {}
      },
      "source": [
        "# Target (apple, orange)\n",
        "targets = np.array([[56, 70], [81, 101], [119, 133], \n",
        "                    [22, 37], [103, 119], [56, 70], \n",
        "                    [81, 101], [119, 133], [22, 37], \n",
        "                    [103, 119], [56, 70], [81, 101], \n",
        "                    [119, 133], [22, 37], [103, 119]], \n",
        "                   dtype='float32')"
      ],
      "execution_count": null,
      "outputs": []
    },
    {
      "cell_type": "code",
      "metadata": {
        "id": "DtrCVaCFpBp-",
        "colab_type": "code",
        "colab": {}
      },
      "source": [
        "inputs = torch.from_numpy(inputs)\n",
        "targets = torch.from_numpy(targets)"
      ],
      "execution_count": null,
      "outputs": []
    },
    {
      "cell_type": "code",
      "metadata": {
        "id": "BNxG37JApEbm",
        "colab_type": "code",
        "colab": {}
      },
      "source": [
        "from torch.utils.data import TensorDataset"
      ],
      "execution_count": null,
      "outputs": []
    },
    {
      "cell_type": "code",
      "metadata": {
        "id": "MqZFnLARpWwS",
        "colab_type": "code",
        "colab": {
          "base_uri": "https://localhost:8080/",
          "height": 101
        },
        "outputId": "e5bc16d2-7a76-496f-d14d-1691ee2ae2da"
      },
      "source": [
        "# Define dataset\n",
        "train_ds = TensorDataset(inputs, targets)\n",
        "train_ds[0:3]"
      ],
      "execution_count": null,
      "outputs": [
        {
          "output_type": "execute_result",
          "data": {
            "text/plain": [
              "(tensor([[ 73.,  67.,  73.],\n",
              "         [ 91.,  88.,  64.],\n",
              "         [ 87., 134.,  58.]]), tensor([[ 56.,  70.],\n",
              "         [ 81., 101.],\n",
              "         [119., 133.]]))"
            ]
          },
          "metadata": {
            "tags": []
          },
          "execution_count": 30
        }
      ]
    },
    {
      "cell_type": "code",
      "metadata": {
        "id": "1dSEDvK0psET",
        "colab_type": "code",
        "colab": {}
      },
      "source": [
        "from torch.utils.data import DataLoader"
      ],
      "execution_count": null,
      "outputs": []
    },
    {
      "cell_type": "code",
      "metadata": {
        "id": "TAzzC5LLuDZ_",
        "colab_type": "code",
        "colab": {}
      },
      "source": [
        "# Define Data Loader\n",
        "batch_size = 5\n",
        "train_dl = DataLoader(train_ds, batch_size, shuffle=True)"
      ],
      "execution_count": null,
      "outputs": []
    },
    {
      "cell_type": "code",
      "metadata": {
        "id": "uTpXuiTQufZQ",
        "colab_type": "code",
        "colab": {
          "base_uri": "https://localhost:8080/",
          "height": 571
        },
        "outputId": "1defdd61-1ef2-409f-b2a7-005eb5d5edeb"
      },
      "source": [
        "for xb, yb in train_dl:\n",
        "    print('batch : ')\n",
        "    print(xb)\n",
        "    print(yb)"
      ],
      "execution_count": null,
      "outputs": [
        {
          "output_type": "stream",
          "text": [
            "batch : \n",
            "tensor([[ 73.,  67.,  73.],\n",
            "        [ 69.,  96.,  70.],\n",
            "        [ 73.,  67.,  73.],\n",
            "        [102.,  43.,  37.],\n",
            "        [ 91.,  88.,  64.]])\n",
            "tensor([[ 56.,  70.],\n",
            "        [103., 119.],\n",
            "        [ 56.,  70.],\n",
            "        [ 22.,  37.],\n",
            "        [ 81., 101.]])\n",
            "batch : \n",
            "tensor([[ 73.,  67.,  43.],\n",
            "        [102.,  43.,  37.],\n",
            "        [ 87., 134.,  58.],\n",
            "        [ 91.,  88.,  64.],\n",
            "        [ 69.,  96.,  70.]])\n",
            "tensor([[ 56.,  70.],\n",
            "        [ 22.,  37.],\n",
            "        [119., 133.],\n",
            "        [ 81., 101.],\n",
            "        [103., 119.]])\n",
            "batch : \n",
            "tensor([[ 87., 134.,  58.],\n",
            "        [ 91.,  88.,  64.],\n",
            "        [ 69.,  96.,  70.],\n",
            "        [102.,  43.,  37.],\n",
            "        [ 87., 134.,  58.]])\n",
            "tensor([[119., 133.],\n",
            "        [ 81., 101.],\n",
            "        [103., 119.],\n",
            "        [ 22.,  37.],\n",
            "        [119., 133.]])\n"
          ],
          "name": "stdout"
        }
      ]
    },
    {
      "cell_type": "code",
      "metadata": {
        "id": "yZav2t5eu1Oh",
        "colab_type": "code",
        "colab": {
          "base_uri": "https://localhost:8080/",
          "height": 101
        },
        "outputId": "82b31d18-224b-48ab-fa4d-d003c469a72c"
      },
      "source": [
        "# Define model\n",
        "model = nn.Linear(3, 2)\n",
        "print(model.weight)\n",
        "print(model.bias)"
      ],
      "execution_count": null,
      "outputs": [
        {
          "output_type": "stream",
          "text": [
            "Parameter containing:\n",
            "tensor([[-0.4635, -0.5605, -0.3331],\n",
            "        [ 0.4615, -0.4978,  0.4645]], requires_grad=True)\n",
            "Parameter containing:\n",
            "tensor([-0.4049,  0.3074], requires_grad=True)\n"
          ],
          "name": "stdout"
        }
      ]
    },
    {
      "cell_type": "code",
      "metadata": {
        "id": "puzWIz8nvhEc",
        "colab_type": "code",
        "colab": {
          "base_uri": "https://localhost:8080/",
          "height": 101
        },
        "outputId": "6cfafd23-24f0-4f29-a174-eab73ad7d879"
      },
      "source": [
        "# Parameters\n",
        "list(model.parameters())"
      ],
      "execution_count": null,
      "outputs": [
        {
          "output_type": "execute_result",
          "data": {
            "text/plain": [
              "[Parameter containing:\n",
              " tensor([[-0.4635, -0.5605, -0.3331],\n",
              "         [ 0.4615, -0.4978,  0.4645]], requires_grad=True),\n",
              " Parameter containing:\n",
              " tensor([-0.4049,  0.3074], requires_grad=True)]"
            ]
          },
          "metadata": {
            "tags": []
          },
          "execution_count": 35
        }
      ]
    },
    {
      "cell_type": "code",
      "metadata": {
        "id": "xfspAfKAwEp8",
        "colab_type": "code",
        "colab": {
          "base_uri": "https://localhost:8080/",
          "height": 269
        },
        "outputId": "84183669-5e54-40a1-9b7e-b210ed9907a0"
      },
      "source": [
        "preds = model(inputs)\n",
        "preds"
      ],
      "execution_count": null,
      "outputs": [
        {
          "output_type": "execute_result",
          "data": {
            "text/plain": [
              "tensor([[ -96.1115,   34.5454],\n",
              "        [-113.2271,   28.2173],\n",
              "        [-135.1557,    0.6838],\n",
              "        [ -84.1111,   43.1565],\n",
              "        [-109.5116,   16.8686],\n",
              "        [ -86.1183,   20.6118],\n",
              "        [-113.2271,   28.2173],\n",
              "        [-135.1557,    0.6838],\n",
              "        [ -84.1111,   43.1565],\n",
              "        [-109.5116,   16.8686],\n",
              "        [ -96.1115,   34.5454],\n",
              "        [-113.2271,   28.2173],\n",
              "        [-135.1557,    0.6838],\n",
              "        [ -84.1111,   43.1565],\n",
              "        [-109.5116,   16.8686]], grad_fn=<AddmmBackward>)"
            ]
          },
          "metadata": {
            "tags": []
          },
          "execution_count": 36
        }
      ]
    },
    {
      "cell_type": "code",
      "metadata": {
        "id": "1BvwdjeowTzu",
        "colab_type": "code",
        "colab": {}
      },
      "source": [
        "# Import nn.functional\n",
        "import torch.nn.functional as F"
      ],
      "execution_count": null,
      "outputs": []
    },
    {
      "cell_type": "code",
      "metadata": {
        "id": "9UlzQrPCwj8s",
        "colab_type": "code",
        "colab": {}
      },
      "source": [
        "loss_fn = F.mse_loss"
      ],
      "execution_count": null,
      "outputs": []
    },
    {
      "cell_type": "code",
      "metadata": {
        "id": "c6QNll_j-lWF",
        "colab_type": "code",
        "colab": {
          "base_uri": "https://localhost:8080/",
          "height": 34
        },
        "outputId": "8c308a9a-1bdf-4642-dd13-82b9e7f1028e"
      },
      "source": [
        "loss = loss_fn(preds, targets)\n",
        "loss"
      ],
      "execution_count": null,
      "outputs": [
        {
          "output_type": "execute_result",
          "data": {
            "text/plain": [
              "tensor(21582.2500, grad_fn=<MseLossBackward>)"
            ]
          },
          "metadata": {
            "tags": []
          },
          "execution_count": 39
        }
      ]
    },
    {
      "cell_type": "code",
      "metadata": {
        "id": "xeLrMVTRwunX",
        "colab_type": "code",
        "colab": {}
      },
      "source": [
        "opt = torch.optim.SGD(model.parameters(), lr=1e-5)"
      ],
      "execution_count": null,
      "outputs": []
    },
    {
      "cell_type": "markdown",
      "metadata": {
        "id": "Zsy8ZPdI_Pso",
        "colab_type": "text"
      },
      "source": [
        "# **Train the model**\n",
        "\n",
        "1. Generate predictions\n",
        "2. Calculate the loss\n",
        "3. Compute gradients w.r.t the weights and biases\n",
        "4. Adjust the weight by subtracting a small quantity proportional to the gradient\n",
        "5. Reset the gradient to zero"
      ]
    },
    {
      "cell_type": "code",
      "metadata": {
        "id": "qcCoh2cXxDWj",
        "colab_type": "code",
        "colab": {}
      },
      "source": [
        "# Utility function to train the model\n",
        "def fit(num_epochs, model, loss_fn, opt, train_dl) :\n",
        "\n",
        "    # Repeat for given number of epochs\n",
        "    for epoch in range(num_epochs):\n",
        "\n",
        "        # Train with batch of data\n",
        "        for xb, yb in train_dl:\n",
        "\n",
        "            # 1.Generate predictions\n",
        "            pred = model(xb)\n",
        "\n",
        "            # 2.Calculate loss\n",
        "            loss = loss_fn(pred, yb)\n",
        "\n",
        "            # 3.Compute gradients\n",
        "            loss.backward()\n",
        "\n",
        "            # 4.Update parameter using gradients\n",
        "            opt.step()\n",
        "\n",
        "            # 5.Reset the gradients to zero\n",
        "            opt.zero_grad()\n",
        "             \n",
        "        if (epoch + 1) % 10 == 0 :\n",
        "            print('Epoch [{}/{}], Loss : {:.4f}'.format(epoch + 1, num_epochs, loss.item()))"
      ],
      "execution_count": null,
      "outputs": []
    },
    {
      "cell_type": "code",
      "metadata": {
        "id": "XQPi5BqlyXu6",
        "colab_type": "code",
        "colab": {
          "base_uri": "https://localhost:8080/",
          "height": 185
        },
        "outputId": "ce854a09-1897-4867-ed84-12d08dd77ebb"
      },
      "source": [
        "fit (100, model, loss_fn, opt, train_dl)"
      ],
      "execution_count": null,
      "outputs": [
        {
          "output_type": "stream",
          "text": [
            "Epoch [10/100], Loss : 765.7924\n",
            "Epoch [20/100], Loss : 790.1605\n",
            "Epoch [30/100], Loss : 207.3519\n",
            "Epoch [40/100], Loss : 431.5872\n",
            "Epoch [50/100], Loss : 132.2032\n",
            "Epoch [60/100], Loss : 152.3909\n",
            "Epoch [70/100], Loss : 168.5138\n",
            "Epoch [80/100], Loss : 56.3473\n",
            "Epoch [90/100], Loss : 72.2837\n",
            "Epoch [100/100], Loss : 80.9472\n"
          ],
          "name": "stdout"
        }
      ]
    },
    {
      "cell_type": "code",
      "metadata": {
        "id": "oWej0eLoyiOQ",
        "colab_type": "code",
        "colab": {
          "base_uri": "https://localhost:8080/",
          "height": 269
        },
        "outputId": "1e1d3df4-f79b-4974-c1fb-e40f7abdd410"
      },
      "source": [
        "preds = model(inputs)\n",
        "preds"
      ],
      "execution_count": null,
      "outputs": [
        {
          "output_type": "execute_result",
          "data": {
            "text/plain": [
              "tensor([[ 66.8951,  89.0747],\n",
              "        [ 79.1882,  97.5526],\n",
              "        [119.7056, 129.2782],\n",
              "        [ 27.8700,  45.2844],\n",
              "        [ 92.9987, 109.7202],\n",
              "        [ 57.6261,  70.3827],\n",
              "        [ 79.1882,  97.5526],\n",
              "        [119.7056, 129.2782],\n",
              "        [ 27.8700,  45.2844],\n",
              "        [ 92.9987, 109.7202],\n",
              "        [ 66.8951,  89.0747],\n",
              "        [ 79.1882,  97.5526],\n",
              "        [119.7056, 129.2782],\n",
              "        [ 27.8700,  45.2844],\n",
              "        [ 92.9987, 109.7202]], grad_fn=<AddmmBackward>)"
            ]
          },
          "metadata": {
            "tags": []
          },
          "execution_count": 43
        }
      ]
    },
    {
      "cell_type": "code",
      "metadata": {
        "id": "MGnjFmpICIYu",
        "colab_type": "code",
        "colab": {
          "base_uri": "https://localhost:8080/",
          "height": 269
        },
        "outputId": "5a40b87f-3962-4a53-f956-16925bd0933e"
      },
      "source": [
        "targets"
      ],
      "execution_count": null,
      "outputs": [
        {
          "output_type": "execute_result",
          "data": {
            "text/plain": [
              "tensor([[ 56.,  70.],\n",
              "        [ 81., 101.],\n",
              "        [119., 133.],\n",
              "        [ 22.,  37.],\n",
              "        [103., 119.],\n",
              "        [ 56.,  70.],\n",
              "        [ 81., 101.],\n",
              "        [119., 133.],\n",
              "        [ 22.,  37.],\n",
              "        [103., 119.],\n",
              "        [ 56.,  70.],\n",
              "        [ 81., 101.],\n",
              "        [119., 133.],\n",
              "        [ 22.,  37.],\n",
              "        [103., 119.]])"
            ]
          },
          "metadata": {
            "tags": []
          },
          "execution_count": 44
        }
      ]
    }
  ]
}